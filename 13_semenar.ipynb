{
 "cells": [
  {
   "cell_type": "markdown",
   "id": "ada44d1f-b9c2-4e5a-a7ba-4f989dbb75ec",
   "metadata": {},
   "source": [
    "## Семинар №13: Деревья"
   ]
  },
  {
   "cell_type": "markdown",
   "id": "4410ac06-7fb9-4552-a688-c08a5b5c64a1",
   "metadata": {},
   "source": [
    "### Студент:     \n",
    "Дата выполнения:"
   ]
  },
  {
   "cell_type": "markdown",
   "id": "1e372492-da5d-47d6-a121-449f420129c4",
   "metadata": {},
   "source": [
    "### Задания"
   ]
  },
  {
   "cell_type": "markdown",
   "id": "b96ebced-080e-418c-857f-5643ccc3f058",
   "metadata": {},
   "source": [
    "1 Создать класс BinaryTreeLL реализующий API для хранения двоичных деревьев в виде списка списков.\n",
    "\n",
    "* BinaryTreeLL(tree) - создание нового экземпляра бинарного дерева. tree - или значение root_val или список содержащий бинарное дерево или BinaryTreeLL.\n",
    "* get_left_child() - возвращает бинарное дерево связанное с левым дочерним узлом рассматриваемого узла.\n",
    "* get_right_child() - возвращает бинарное дерево связанное с правым дочерним узлом рассматриваемого узла. \n",
    "* get_val() - возвращает объект, хранящийся в данном узле.\n",
    "* set_val(val) - сохраняет объект val в данный узел.\n",
    "* insert_left_child(ll_val) - вставляет новое бинарное дерево в левый дочерний узел. ll_val - это или представление бинарного дерева в виде списка списков или BinaryTreeLL.\n",
    "* insert_right_child(ll_val) - вставляет новое бинарное дерево в правый дочерний узел. ll_val - это или представление бинарного дерева в виде списка списков или BinaryTreeLL.\n",
    "\n",
    "* get_tree_list() - возвращает представление дерева в виде списка."
   ]
  },
  {
   "cell_type": "code",
   "execution_count": 3,
   "id": "6cb0d734-1b43-4a7c-bbd4-77b706a0aef0",
   "metadata": {},
   "outputs": [],
   "source": [
    "# Your code"
   ]
  },
  {
   "cell_type": "markdown",
   "id": "e68efc65-04b1-4e70-bf4f-b9955edebe5c",
   "metadata": {},
   "source": [
    "2 Создать класс BinaryNode реализующий API для хранения двоичных деревьев в виде объектов, ссылающихся на родителя и потомков. \n",
    "\n",
    "* BinaryNode(val) - создание нового экземпляра бинарного дерева. val - или значение root_val или бинарное дерево в виде BinaryNode.\n",
    "\n",
    "\n",
    "* get_val() - возвращает объект, хранящийся в данном узле.\n",
    "* set_val(val) - сохраняет объект val в данный узел.\n",
    "\n",
    "\n",
    "* get_left_child() - возвращает левый дочерний узел рассматриваемого узла.\n",
    "* get_right_child() - возвращает правый дочерний узел рассматриваемого узла.\n",
    "* set_left_child(node) - устанавливает новый левый дочерний узел. node - это или узел BinaryNode или None.\n",
    "* set_right_child(node) - устанавливает новый правый дочерний узел. node - это или узел BinaryNode или None.\n",
    "\n",
    "\n",
    "* get_parent() - возвращает родительский узел.\n",
    "* set_parent(node) - устанавливает новый родительский узел. node - это или узел BinaryNode или None."
   ]
  },
  {
   "cell_type": "code",
   "execution_count": 5,
   "id": "2652561e-cfce-4867-9389-a53067b5266f",
   "metadata": {},
   "outputs": [],
   "source": [
    "# Your code"
   ]
  },
  {
   "cell_type": "markdown",
   "id": "0411fc3c-3a60-42c7-a0d3-abd177ee9133",
   "metadata": {},
   "source": [
    "3 Реализовать разбор арифметических выражений с операциями +,-,*,/ и произвольным количеством скобок в виде бинарного дерева."
   ]
  },
  {
   "cell_type": "code",
   "execution_count": 6,
   "id": "966106ca-ffc2-4514-ad28-785d98679579",
   "metadata": {},
   "outputs": [],
   "source": [
    "# Your code"
   ]
  },
  {
   "cell_type": "markdown",
   "id": "9e24e5a9-4f68-4c68-9079-f11164a4987f",
   "metadata": {},
   "source": [
    "4 Реализовать рассчет арифметического выражения, представленного в виде бинарного дерева из 3."
   ]
  },
  {
   "cell_type": "code",
   "execution_count": 8,
   "id": "966c2c0c-238d-41e4-9564-3a15b1d13424",
   "metadata": {},
   "outputs": [],
   "source": [
    "# Your code"
   ]
  },
  {
   "cell_type": "markdown",
   "id": "e6b5bf8d-fd09-4334-94f5-b261b56ccb51",
   "metadata": {},
   "source": [
    "5 Реализовать прямой, обратный и симметричный порядок обхода дерева."
   ]
  },
  {
   "cell_type": "code",
   "execution_count": 10,
   "id": "f242a0e6-ac99-4447-b51a-1cfb3c1705bc",
   "metadata": {},
   "outputs": [],
   "source": [
    "# Your code"
   ]
  },
  {
   "cell_type": "markdown",
   "id": "4affe58a-1a11-4973-b213-9bd6ebd9ce58",
   "metadata": {},
   "source": [
    "6 Реализовать двоичное дерево поиска с поддержкой операций: вставки (insert), проверки вхождения (оператор in) и удаления значений (оператор del)."
   ]
  },
  {
   "cell_type": "code",
   "execution_count": 11,
   "id": "3af36ff1-ffee-4815-a07a-fc93f7d1a9d6",
   "metadata": {},
   "outputs": [],
   "source": [
    "# Your code"
   ]
  }
 ],
 "metadata": {
  "kernelspec": {
   "display_name": "Python 3 (ipykernel)",
   "language": "python",
   "name": "python3"
  },
  "language_info": {
   "codemirror_mode": {
    "name": "ipython",
    "version": 3
   },
   "file_extension": ".py",
   "mimetype": "text/x-python",
   "name": "python",
   "nbconvert_exporter": "python",
   "pygments_lexer": "ipython3",
   "version": "3.9.12"
  }
 },
 "nbformat": 4,
 "nbformat_minor": 5
}
